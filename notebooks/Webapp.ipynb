{
  "nbformat": 4,
  "nbformat_minor": 0,
  "metadata": {
    "colab": {
      "name": "Webapp.ipynb",
      "provenance": [],
      "collapsed_sections": [
        "3VLgxaA_Pdl9",
        "QAMBTfYMYByg"
      ],
      "machine_shape": "hm"
    },
    "kernelspec": {
      "display_name": "Python 3",
      "language": "python",
      "name": "python3"
    },
    "language_info": {
      "codemirror_mode": {
        "name": "ipython",
        "version": 3
      },
      "file_extension": ".py",
      "mimetype": "text/x-python",
      "name": "python",
      "nbconvert_exporter": "python",
      "pygments_lexer": "ipython3",
      "version": "3.7.4"
    }
  },
  "cells": [
    {
      "cell_type": "markdown",
      "metadata": {
        "colab_type": "text",
        "id": "T-M9apSOWu4d"
      },
      "source": [
        "# Imports"
      ]
    },
    {
      "cell_type": "code",
      "metadata": {
        "collapsed": true,
        "id": "fvMh_SLu4ABB",
        "colab_type": "code",
        "colab": {},
        "outputId": "627e7ca1-f43c-43db-8c0c-58bc8300d737"
      },
      "source": [
        "! pip install umap"
      ],
      "execution_count": null,
      "outputs": [
        {
          "output_type": "stream",
          "text": [
            "Collecting umap\n",
            "  Downloading https://files.pythonhosted.org/packages/4b/46/08ab68936625400fe690684428d4db4764f49b406782cc133df1d0299d06/umap-0.1.1.tar.gz\n",
            "Building wheels for collected packages: umap\n",
            "  Building wheel for umap (setup.py): started\n",
            "  Building wheel for umap (setup.py): finished with status 'done'\n",
            "  Created wheel for umap: filename=umap-0.1.1-cp37-none-any.whl size=3570 sha256=97ad31d7e626f4fc903cf211cfab6611b0e1ed3b3d11034a7929a5174959973e\n",
            "  Stored in directory: C:\\Users\\clanguyen\\AppData\\Local\\pip\\Cache\\wheels\\7b\\29\\33\\b4d917dc95f69c0a060e2ab012d95e15db9ed4cc0b94ccac26\n",
            "Successfully built umap\n",
            "Installing collected packages: umap\n",
            "Successfully installed umap-0.1.1\n"
          ],
          "name": "stdout"
        }
      ]
    },
    {
      "cell_type": "code",
      "metadata": {
        "colab_type": "code",
        "id": "XuSAbRZ-WxNW",
        "colab": {}
      },
      "source": [
        "# package imports\n",
        "import pandas as pd\n",
        "import numpy as np\n",
        "from sklearn.preprocessing import StandardScaler\n",
        "import sklearn\n",
        "from math import sqrt\n",
        "import datetime"
      ],
      "execution_count": null,
      "outputs": []
    },
    {
      "cell_type": "markdown",
      "metadata": {
        "colab_type": "text",
        "id": "tgx7LvKmWiiP"
      },
      "source": [
        "# Web app w Plotly"
      ]
    },
    {
      "cell_type": "markdown",
      "metadata": {
        "colab_type": "text",
        "id": "ZYaIw7pp2BCa"
      },
      "source": [
        "## Installation & setup"
      ]
    },
    {
      "cell_type": "code",
      "metadata": {
        "id": "Ko-6rH6l4ABR",
        "colab_type": "code",
        "colab": {},
        "outputId": "553fefaa-a73e-44bd-bb38-abb23880fcd3"
      },
      "source": [
        "!jupyter nbextension enable --py widgetsnbextension"
      ],
      "execution_count": null,
      "outputs": [
        {
          "output_type": "stream",
          "text": [
            "Enabling notebook extension jupyter-js-widgets/extension...\n",
            "      - Validating: ok\n"
          ],
          "name": "stderr"
        }
      ]
    },
    {
      "cell_type": "code",
      "metadata": {
        "colab_type": "code",
        "id": "LH9ZmR58BpER",
        "colab": {}
      },
      "source": [
        "%matplotlib inline"
      ],
      "execution_count": null,
      "outputs": []
    },
    {
      "cell_type": "code",
      "metadata": {
        "colab_type": "code",
        "id": "7rUk4NP57nzZ",
        "scrolled": true,
        "colab": {},
        "outputId": "57035b1b-c853-4ab6-de66-7e5ddc1a19ad"
      },
      "source": [
        "!pip install ipywidgets"
      ],
      "execution_count": null,
      "outputs": [
        {
          "output_type": "stream",
          "text": [
            "Requirement already satisfied: ipywidgets in c:\\users\\clanguyen\\appdata\\local\\continuum\\anaconda3\\lib\\site-packages (7.5.1)\n",
            "Requirement already satisfied: widgetsnbextension~=3.5.0 in c:\\users\\clanguyen\\appdata\\local\\continuum\\anaconda3\\lib\\site-packages (from ipywidgets) (3.5.1)\n",
            "Requirement already satisfied: ipykernel>=4.5.1 in c:\\users\\clanguyen\\appdata\\local\\continuum\\anaconda3\\lib\\site-packages (from ipywidgets) (5.1.2)\n",
            "Requirement already satisfied: nbformat>=4.2.0 in c:\\users\\clanguyen\\appdata\\local\\continuum\\anaconda3\\lib\\site-packages (from ipywidgets) (4.4.0)\n",
            "Requirement already satisfied: traitlets>=4.3.1 in c:\\users\\clanguyen\\appdata\\local\\continuum\\anaconda3\\lib\\site-packages (from ipywidgets) (4.3.3)\n",
            "Requirement already satisfied: ipython>=4.0.0; python_version >= \"3.3\" in c:\\users\\clanguyen\\appdata\\local\\continuum\\anaconda3\\lib\\site-packages (from ipywidgets) (7.8.0)\n",
            "Requirement already satisfied: notebook>=4.4.1 in c:\\users\\clanguyen\\appdata\\local\\continuum\\anaconda3\\lib\\site-packages (from widgetsnbextension~=3.5.0->ipywidgets) (6.0.1)\n",
            "Requirement already satisfied: jupyter-client in c:\\users\\clanguyen\\appdata\\local\\continuum\\anaconda3\\lib\\site-packages (from ipykernel>=4.5.1->ipywidgets) (5.3.3)\n",
            "Requirement already satisfied: tornado>=4.2 in c:\\users\\clanguyen\\appdata\\local\\continuum\\anaconda3\\lib\\site-packages (from ipykernel>=4.5.1->ipywidgets) (6.0.3)\n",
            "Requirement already satisfied: jsonschema!=2.5.0,>=2.4 in c:\\users\\clanguyen\\appdata\\local\\continuum\\anaconda3\\lib\\site-packages (from nbformat>=4.2.0->ipywidgets) (3.0.2)\n",
            "Requirement already satisfied: ipython-genutils in c:\\users\\clanguyen\\appdata\\local\\continuum\\anaconda3\\lib\\site-packages (from nbformat>=4.2.0->ipywidgets) (0.2.0)\n",
            "Requirement already satisfied: jupyter-core in c:\\users\\clanguyen\\appdata\\local\\continuum\\anaconda3\\lib\\site-packages (from nbformat>=4.2.0->ipywidgets) (4.5.0)\n",
            "Requirement already satisfied: decorator in c:\\users\\clanguyen\\appdata\\local\\continuum\\anaconda3\\lib\\site-packages (from traitlets>=4.3.1->ipywidgets) (4.4.0)\n",
            "Requirement already satisfied: six in c:\\users\\clanguyen\\appdata\\local\\continuum\\anaconda3\\lib\\site-packages (from traitlets>=4.3.1->ipywidgets) (1.12.0)\n",
            "Requirement already satisfied: colorama; sys_platform == \"win32\" in c:\\users\\clanguyen\\appdata\\local\\continuum\\anaconda3\\lib\\site-packages (from ipython>=4.0.0; python_version >= \"3.3\"->ipywidgets) (0.4.1)\n",
            "Requirement already satisfied: prompt-toolkit<2.1.0,>=2.0.0 in c:\\users\\clanguyen\\appdata\\local\\continuum\\anaconda3\\lib\\site-packages (from ipython>=4.0.0; python_version >= \"3.3\"->ipywidgets) (2.0.10)\n",
            "Requirement already satisfied: jedi>=0.10 in c:\\users\\clanguyen\\appdata\\local\\continuum\\anaconda3\\lib\\site-packages (from ipython>=4.0.0; python_version >= \"3.3\"->ipywidgets) (0.15.1)\n",
            "Requirement already satisfied: setuptools>=18.5 in c:\\users\\clanguyen\\appdata\\local\\continuum\\anaconda3\\lib\\site-packages (from ipython>=4.0.0; python_version >= \"3.3\"->ipywidgets) (41.4.0)\n",
            "Requirement already satisfied: pickleshare in c:\\users\\clanguyen\\appdata\\local\\continuum\\anaconda3\\lib\\site-packages (from ipython>=4.0.0; python_version >= \"3.3\"->ipywidgets) (0.7.5)\n",
            "Requirement already satisfied: pygments in c:\\users\\clanguyen\\appdata\\local\\continuum\\anaconda3\\lib\\site-packages (from ipython>=4.0.0; python_version >= \"3.3\"->ipywidgets) (2.4.2)\n",
            "Requirement already satisfied: backcall in c:\\users\\clanguyen\\appdata\\local\\continuum\\anaconda3\\lib\\site-packages (from ipython>=4.0.0; python_version >= \"3.3\"->ipywidgets) (0.1.0)\n",
            "Requirement already satisfied: nbconvert in c:\\users\\clanguyen\\appdata\\local\\continuum\\anaconda3\\lib\\site-packages (from notebook>=4.4.1->widgetsnbextension~=3.5.0->ipywidgets) (5.6.0)\n",
            "Requirement already satisfied: terminado>=0.8.1 in c:\\users\\clanguyen\\appdata\\local\\continuum\\anaconda3\\lib\\site-packages (from notebook>=4.4.1->widgetsnbextension~=3.5.0->ipywidgets) (0.8.2)\n",
            "Requirement already satisfied: pyzmq>=17 in c:\\users\\clanguyen\\appdata\\local\\continuum\\anaconda3\\lib\\site-packages (from notebook>=4.4.1->widgetsnbextension~=3.5.0->ipywidgets) (18.1.0)\n",
            "Requirement already satisfied: prometheus-client in c:\\users\\clanguyen\\appdata\\local\\continuum\\anaconda3\\lib\\site-packages (from notebook>=4.4.1->widgetsnbextension~=3.5.0->ipywidgets) (0.7.1)\n",
            "Requirement already satisfied: jinja2 in c:\\users\\clanguyen\\appdata\\local\\continuum\\anaconda3\\lib\\site-packages (from notebook>=4.4.1->widgetsnbextension~=3.5.0->ipywidgets) (2.10.3)\n",
            "Requirement already satisfied: Send2Trash in c:\\users\\clanguyen\\appdata\\local\\continuum\\anaconda3\\lib\\site-packages (from notebook>=4.4.1->widgetsnbextension~=3.5.0->ipywidgets) (1.5.0)\n",
            "Requirement already satisfied: pywin32>=1.0; sys_platform == \"win32\" in c:\\users\\clanguyen\\appdata\\local\\continuum\\anaconda3\\lib\\site-packages (from jupyter-client->ipykernel>=4.5.1->ipywidgets) (223)\n",
            "Requirement already satisfied: python-dateutil>=2.1 in c:\\users\\clanguyen\\appdata\\local\\continuum\\anaconda3\\lib\\site-packages (from jupyter-client->ipykernel>=4.5.1->ipywidgets) (2.8.0)\n",
            "Requirement already satisfied: pyrsistent>=0.14.0 in c:\\users\\clanguyen\\appdata\\local\\continuum\\anaconda3\\lib\\site-packages (from jsonschema!=2.5.0,>=2.4->nbformat>=4.2.0->ipywidgets) (0.15.4)\n",
            "Requirement already satisfied: attrs>=17.4.0 in c:\\users\\clanguyen\\appdata\\local\\continuum\\anaconda3\\lib\\site-packages (from jsonschema!=2.5.0,>=2.4->nbformat>=4.2.0->ipywidgets) (19.2.0)\n",
            "Requirement already satisfied: wcwidth in c:\\users\\clanguyen\\appdata\\local\\continuum\\anaconda3\\lib\\site-packages (from prompt-toolkit<2.1.0,>=2.0.0->ipython>=4.0.0; python_version >= \"3.3\"->ipywidgets) (0.1.7)\n",
            "Requirement already satisfied: parso>=0.5.0 in c:\\users\\clanguyen\\appdata\\local\\continuum\\anaconda3\\lib\\site-packages (from jedi>=0.10->ipython>=4.0.0; python_version >= \"3.3\"->ipywidgets) (0.5.1)\n",
            "Requirement already satisfied: mistune<2,>=0.8.1 in c:\\users\\clanguyen\\appdata\\local\\continuum\\anaconda3\\lib\\site-packages (from nbconvert->notebook>=4.4.1->widgetsnbextension~=3.5.0->ipywidgets) (0.8.4)\n",
            "Requirement already satisfied: bleach in c:\\users\\clanguyen\\appdata\\local\\continuum\\anaconda3\\lib\\site-packages (from nbconvert->notebook>=4.4.1->widgetsnbextension~=3.5.0->ipywidgets) (3.1.0)\n",
            "Requirement already satisfied: pandocfilters>=1.4.1 in c:\\users\\clanguyen\\appdata\\local\\continuum\\anaconda3\\lib\\site-packages (from nbconvert->notebook>=4.4.1->widgetsnbextension~=3.5.0->ipywidgets) (1.4.2)\n",
            "Requirement already satisfied: testpath in c:\\users\\clanguyen\\appdata\\local\\continuum\\anaconda3\\lib\\site-packages (from nbconvert->notebook>=4.4.1->widgetsnbextension~=3.5.0->ipywidgets) (0.4.2)\n",
            "Requirement already satisfied: defusedxml in c:\\users\\clanguyen\\appdata\\local\\continuum\\anaconda3\\lib\\site-packages (from nbconvert->notebook>=4.4.1->widgetsnbextension~=3.5.0->ipywidgets) (0.6.0)\n",
            "Requirement already satisfied: entrypoints>=0.2.2 in c:\\users\\clanguyen\\appdata\\local\\continuum\\anaconda3\\lib\\site-packages (from nbconvert->notebook>=4.4.1->widgetsnbextension~=3.5.0->ipywidgets) (0.3)\n",
            "Requirement already satisfied: MarkupSafe>=0.23 in c:\\users\\clanguyen\\appdata\\local\\continuum\\anaconda3\\lib\\site-packages (from jinja2->notebook>=4.4.1->widgetsnbextension~=3.5.0->ipywidgets) (1.1.1)\n",
            "Requirement already satisfied: webencodings in c:\\users\\clanguyen\\appdata\\local\\continuum\\anaconda3\\lib\\site-packages (from bleach->nbconvert->notebook>=4.4.1->widgetsnbextension~=3.5.0->ipywidgets) (0.5.1)\n"
          ],
          "name": "stdout"
        }
      ]
    },
    {
      "cell_type": "code",
      "metadata": {
        "colab_type": "code",
        "collapsed": true,
        "id": "1lZMCH082ANc",
        "colab": {},
        "outputId": "bed8798d-b26b-49c8-b45b-5b4ee98420b5"
      },
      "source": [
        "!pip install plotly --upgrade\n",
        "!pip install dash --upgrade\n",
        "!pip install dash-core-components --upgrade\n",
        "!pip install dash-html-components --upgrade\n",
        "!pip install dash-renderer --upgrade"
      ],
      "execution_count": null,
      "outputs": [
        {
          "output_type": "stream",
          "text": [
            "Collecting plotly\n",
            "  Downloading https://files.pythonhosted.org/packages/f5/c3/03a183b94441da857e7d2b0564cb482bd15824dc1af2d2b337ea6e538c8f/plotly-4.5.4-py2.py3-none-any.whl (7.1MB)\n",
            "Collecting retrying>=1.3.3 (from plotly)\n",
            "  Downloading https://files.pythonhosted.org/packages/44/ef/beae4b4ef80902f22e3af073397f079c96969c69b2c7d52a57ea9ae61c9d/retrying-1.3.3.tar.gz\n",
            "Requirement already satisfied, skipping upgrade: six in c:\\users\\clanguyen\\appdata\\local\\continuum\\anaconda3\\lib\\site-packages (from plotly) (1.12.0)\n",
            "Building wheels for collected packages: retrying\n",
            "  Building wheel for retrying (setup.py): started\n",
            "  Building wheel for retrying (setup.py): finished with status 'done'\n",
            "  Created wheel for retrying: filename=retrying-1.3.3-cp37-none-any.whl size=11435 sha256=1d565cbd1f17720e6cf5cef1523be5154b2a0287b6bcc0061bb90c2e8b7ce44c\n",
            "  Stored in directory: C:\\Users\\clanguyen\\AppData\\Local\\pip\\Cache\\wheels\\d7\\a9\\33\\acc7b709e2a35caa7d4cae442f6fe6fbf2c43f80823d46460c\n",
            "Successfully built retrying\n",
            "Installing collected packages: retrying, plotly\n",
            "Successfully installed plotly-4.5.4 retrying-1.3.3\n",
            "Collecting dash\n",
            "  Downloading https://files.pythonhosted.org/packages/12/58/3f0e061150d2aee6501747e7ba0d3486461a3470aba556eca5b659c5733b/dash-1.9.1.tar.gz (64kB)\n",
            "Requirement already satisfied, skipping upgrade: Flask>=1.0.2 in c:\\users\\clanguyen\\appdata\\local\\continuum\\anaconda3\\lib\\site-packages (from dash) (1.1.1)\n",
            "Collecting flask-compress (from dash)\n",
            "  Downloading https://files.pythonhosted.org/packages/0e/2a/378bd072928f6d92fd8c417d66b00c757dc361c0405a46a0134de6fd323d/Flask-Compress-1.4.0.tar.gz\n",
            "Requirement already satisfied, skipping upgrade: plotly in c:\\users\\clanguyen\\appdata\\local\\continuum\\anaconda3\\lib\\site-packages (from dash) (4.5.4)\n",
            "Collecting dash_renderer==1.2.4 (from dash)\n",
            "  Downloading https://files.pythonhosted.org/packages/12/38/6ca3478c05420b2ed9c6ef42bc59a6fa487b3cd0125de7e253e84246559f/dash_renderer-1.2.4.tar.gz (1.1MB)\n",
            "Collecting dash-core-components==1.8.1 (from dash)\n",
            "  Downloading https://files.pythonhosted.org/packages/d8/ef/950e7d6dd3429925104406df996758bf6fd309c88d4c2ca34ecd77a847f5/dash_core_components-1.8.1.tar.gz (3.3MB)\n",
            "Collecting dash-html-components==1.0.2 (from dash)\n",
            "  Downloading https://files.pythonhosted.org/packages/b4/9e/76988b02d09268495218639ad45dbfafe7dec8a52961278aeedaffb638ea/dash_html_components-1.0.2.tar.gz (187kB)\n",
            "Collecting dash-table==4.6.1 (from dash)\n",
            "  Downloading https://files.pythonhosted.org/packages/7e/55/cd272ee8309c97666bffb12318ff3066bbc1936095e95af92507d452b083/dash_table-4.6.1.tar.gz (1.8MB)\n",
            "Requirement already satisfied, skipping upgrade: future in c:\\users\\clanguyen\\appdata\\local\\continuum\\anaconda3\\lib\\site-packages (from dash) (0.17.1)\n",
            "Requirement already satisfied, skipping upgrade: Jinja2>=2.10.1 in c:\\users\\clanguyen\\appdata\\local\\continuum\\anaconda3\\lib\\site-packages (from Flask>=1.0.2->dash) (2.10.3)\n",
            "Requirement already satisfied, skipping upgrade: Werkzeug>=0.15 in c:\\users\\clanguyen\\appdata\\local\\continuum\\anaconda3\\lib\\site-packages (from Flask>=1.0.2->dash) (0.16.0)\n",
            "Requirement already satisfied, skipping upgrade: click>=5.1 in c:\\users\\clanguyen\\appdata\\local\\continuum\\anaconda3\\lib\\site-packages (from Flask>=1.0.2->dash) (7.0)\n",
            "Requirement already satisfied, skipping upgrade: itsdangerous>=0.24 in c:\\users\\clanguyen\\appdata\\local\\continuum\\anaconda3\\lib\\site-packages (from Flask>=1.0.2->dash) (1.1.0)\n",
            "Requirement already satisfied, skipping upgrade: six in c:\\users\\clanguyen\\appdata\\local\\continuum\\anaconda3\\lib\\site-packages (from plotly->dash) (1.12.0)\n",
            "Requirement already satisfied, skipping upgrade: retrying>=1.3.3 in c:\\users\\clanguyen\\appdata\\local\\continuum\\anaconda3\\lib\\site-packages (from plotly->dash) (1.3.3)\n",
            "Requirement already satisfied, skipping upgrade: MarkupSafe>=0.23 in c:\\users\\clanguyen\\appdata\\local\\continuum\\anaconda3\\lib\\site-packages (from Jinja2>=2.10.1->Flask>=1.0.2->dash) (1.1.1)\n",
            "Building wheels for collected packages: dash, flask-compress, dash-renderer, dash-core-components, dash-html-components, dash-table\n",
            "  Building wheel for dash (setup.py): started\n",
            "  Building wheel for dash (setup.py): finished with status 'done'\n",
            "  Created wheel for dash: filename=dash-1.9.1-cp37-none-any.whl size=71518 sha256=596b0e738f793c8a223e08425dc2acf0f5d808e2af841a880b9f6a6b7d9a6ae9\n",
            "  Stored in directory: C:\\Users\\clanguyen\\AppData\\Local\\pip\\Cache\\wheels\\ae\\29\\73\\dd1e3699c9b9e5488b9688fed5d990364317c8472004f8df0b\n",
            "  Building wheel for flask-compress (setup.py): started\n",
            "  Building wheel for flask-compress (setup.py): finished with status 'done'\n",
            "  Created wheel for flask-compress: filename=Flask_Compress-1.4.0-cp37-none-any.whl size=3716 sha256=12a228d0be44f12f0317557dcaa2c591a58d202cccfdd653f931e91b96101c99\n",
            "  Stored in directory: C:\\Users\\clanguyen\\AppData\\Local\\pip\\Cache\\wheels\\96\\32\\88\\a1f6d9dd3c29570ab3a8acc0d556b3b20abcf3c623c868ce0a\n",
            "  Building wheel for dash-renderer (setup.py): started\n",
            "  Building wheel for dash-renderer (setup.py): finished with status 'done'\n",
            "  Created wheel for dash-renderer: filename=dash_renderer-1.2.4-cp37-none-any.whl size=1146890 sha256=5b5da49c4d01f68c0d23b4cf7c6aa434b7f61088b3e6b3c4e044ecdf90c2d3e7\n",
            "  Stored in directory: C:\\Users\\clanguyen\\AppData\\Local\\pip\\Cache\\wheels\\1b\\91\\5e\\af35d118f1c25482e973db760534c3c3666287ab687059a1a4\n",
            "  Building wheel for dash-core-components (setup.py): started\n",
            "  Building wheel for dash-core-components (setup.py): finished with status 'done'\n",
            "  Created wheel for dash-core-components: filename=dash_core_components-1.8.1-cp37-none-any.whl size=3395728 sha256=72a39a9c6194e97a264b2b9db15dca8b4b020599695520a828dff7505689e84b\n",
            "  Stored in directory: C:\\Users\\clanguyen\\AppData\\Local\\pip\\Cache\\wheels\\e6\\bb\\a2\\28ba307164585367dd524d2a8ce039d3f41ea2eb0c025ce32b\n",
            "  Building wheel for dash-html-components (setup.py): started\n",
            "  Building wheel for dash-html-components (setup.py): finished with status 'done'\n",
            "  Created wheel for dash-html-components: filename=dash_html_components-1.0.2-cp37-none-any.whl size=427909 sha256=57f8dc470d733b4150ffde2ac271a3bc36d6d9843cd47bbe2f83ca2b600f1978\n",
            "  Stored in directory: C:\\Users\\clanguyen\\AppData\\Local\\pip\\Cache\\wheels\\59\\6d\\79\\e8fbded6c6102c00ef0d58a278a488d913d30c51ae95dbef90\n",
            "  Building wheel for dash-table (setup.py): started\n",
            "  Building wheel for dash-table (setup.py): finished with status 'done'\n",
            "  Created wheel for dash-table: filename=dash_table-4.6.1-cp37-none-any.whl size=1765781 sha256=c4821de5c8bad783a981b004f80961ba4b84f781c8c7684d4a1f3b375ba8b9e7\n",
            "  Stored in directory: C:\\Users\\clanguyen\\AppData\\Local\\pip\\Cache\\wheels\\33\\2b\\63\\5833408d184e067a28786814044c69c1b269a2945afd436649\n",
            "Successfully built dash flask-compress dash-renderer dash-core-components dash-html-components dash-table\n",
            "Installing collected packages: flask-compress, dash-renderer, dash-core-components, dash-html-components, dash-table, dash\n",
            "Successfully installed dash-1.9.1 dash-core-components-1.8.1 dash-html-components-1.0.2 dash-renderer-1.2.4 dash-table-4.6.1 flask-compress-1.4.0\n",
            "Requirement already up-to-date: dash-core-components in c:\\users\\clanguyen\\appdata\\local\\continuum\\anaconda3\\lib\\site-packages (1.8.1)\n",
            "Requirement already up-to-date: dash-html-components in c:\\users\\clanguyen\\appdata\\local\\continuum\\anaconda3\\lib\\site-packages (1.0.2)\n",
            "Requirement already up-to-date: dash-renderer in c:\\users\\clanguyen\\appdata\\local\\continuum\\anaconda3\\lib\\site-packages (1.2.4)\n"
          ],
          "name": "stdout"
        }
      ]
    },
    {
      "cell_type": "code",
      "metadata": {
        "colab_type": "code",
        "id": "NJUHTK9u2WqK",
        "colab": {}
      },
      "source": [
        "import plotly.graph_objs as go\n",
        "import ipywidgets as widgets\n",
        "import pandas as pd\n",
        "import IPython\n",
        "import numpy as np\n",
        "from plotly.offline import download_plotlyjs, init_notebook_mode, iplot"
      ],
      "execution_count": null,
      "outputs": []
    },
    {
      "cell_type": "code",
      "metadata": {
        "id": "GOUfC2I64ABs",
        "colab_type": "code",
        "colab": {}
      },
      "source": [
        "!pip install nodejs"
      ],
      "execution_count": null,
      "outputs": []
    },
    {
      "cell_type": "code",
      "metadata": {
        "id": "ruoDdRXi4ABw",
        "colab_type": "code",
        "colab": {},
        "outputId": "a23865da-61d9-4578-982d-38240b9f534d"
      },
      "source": [
        "!jupyter labextension install @jupyter-widgets/jupyterlab-manager"
      ],
      "execution_count": null,
      "outputs": [
        {
          "output_type": "stream",
          "text": [
            "-\b/\b|\b\\\b-\b/\b|\b\\\b-\b/\b|\b\\\b-\b/\b|\b\\\b-\b/\b|\b\\\b-\b/\b|\b\\\b-\b/\b|\b\\\b-\b/\b|\b\\\b-\b/\b|\b\\\b-\b-\b/\b|\b\\\b-\b/\b|\b\\\b-\b/\b|\b\\\b-\b/\b|\b\\\b-\b/\b|\b\\\b-\b/\b|\b\\\b-\b/\b|\b\\\b-\b/\b|\b\\\b-\b-\b/\b|\b\\\b-\b/\b|\b\\\b-\b/\b|\b\\\b-\b/\b|\b\\\b-\b/\b|\b\\\b-\b/\b|\b\\\b-\b/\b|\b\\\b-\b/\b|\b\\\b-\b/\b|\b\\\b-\b/\b|\b\\\b-\b/\b|\b\\\b-\b/\b|\b\\\b-\b/\b|\b\\\b-\b/\b|\b\\\b-\b/\b|\b\\\b-\b/\b|\b\\\b-\b/\b|\b\\\b-\b/\b|\b\\\b-\b/\b|\b\\\b-\b/\b|\b\\\b-\b/\b|\b\\\b-\b/\b|\b\\\b-\b/\b|\b\\\b-\b/\b|\b\\\b-\b/\b|\b\\\b-\b/\b|\b\\\b-\b/\b|\b\\\b-\b/\b|\b\\\b-\b/\b|\b\\\b-\b/\b|\b\\\b-\b/\b|\b\\\b-\b/\b|\b\\\b-\b/\b|\b\\\b-\b/\b|\b\\\b-\b/\b|\b\\\b-\b/\b|\b\\\b-\b/\b|\b\\\b-\b/\b|\b\\\b-\b/\b|\b\\\b-\b/\b|\b\\\b-\b/\b|\b\\\b-\b/\b|\b\\\b-\b/\b|\b\\\b-\b/\b|\b\\\b-\b/\b|\b\\\b-\b/\b|\b\\\b-\b/\b|\b\\\b-\b/\b|\b\\\b-\b/\b|\b\\\b-\b/\b|\b\\\b-\b/\b|\b\\\b-\b/\b|\b\\\b-\b/\b|\b\\\b-\b/\b|\b\\\b-\b/\b|\b\\\b-\b/\b|\b\\\b-\b/\b|\b\\\b-\b/\b|\b\\\b-\b/\b|\b\\\b-\b/\b|\b\\\b-\b/\b|\b\\\b-\b/\b|\b\\\b-\b/\b|\b\\\b-\b/\b|\b\\\b-\b/\b|\b\\\b-\b/\b|\b\\\b-\b/\b|\b\\\b-\b/\b|\b\\\b-\b/\b|\b\\\b-\b/\b|\b\\\b-\b/\b|\b\\\b-\b/\b|\b\\\b-\b/\b|\b\\\b-\b/\b|\b\\\b-\b/\b|\b\\\b-\b/\b|\b\\\b-\b/\b|\b\\\b-\b/\b|\b\\\b-\b/\b|\b\\\b-\b/\b|\b\\\b-\b/\b|\b\\\b-\b/\b|\b\\\b-\b/\b|\b\\\b-\b/\b|\b\\\b-\b/\b|\b\\\b-\b/\b|\b\\\b-\b/\b|\b\\\b-\b/\b|\b\\\b-\b/\b|\b\\\b-\b/\b|\b\\\b-\b/\b|\b\\\b-\b/\b|\b\\\b-\b/\b|\b\\\b-\b/\b|\b\\\b-\b/\b|\b\\\b-\b/\b|\b\\\b-\b/\b|\b\\\b-\b/\b|\b\\\b-\b/\b|\b\\\b-\b/\b|\b\\\b-\b/\b|\b\\\b-\b/\b|\b\\\b-\b/\b|\b\\\b-\b/\b|\b\\\b-\b/\b|\b\\\b-\b/\b|\b\\\b-\b/\b|\b\\\b-\b/\b|\b\\\b-\b/\b|\b\\\b-\b/\b|\b\\\b-\b/\b|\b\\\b-\b/\b|\b\\\b-\b/\b|\b\\\b-\b/\b|\b\\\b-\b/\b|\b\\\b-\b/\b|\b\\\b-\b/\b|\b\\\b-\b/\b|\b\\\b-\b/\b|\b\\\b-\b/\b|\b\\\b-\b/\b|\b\\\b-\b/\b|\b\\\b-\b/\b|\b\\\b-\b/\b|\b\\\b-\b/\b|\b\\\b-\b/\b|\b\\\b-\b/\b|\b\\\b-\b/\b|\b\\\b-\b/\b|\b\\\b-\b/\b|\b\\\b-\b/\b|\b\\\b-\b/\b|\b\\\b-\b/\b|\b\\\b-\b/\b|\b\\\b-\b/\b|\b\\\b-\b/\b|\b\\\b-\b/\b|\b\\\b-\b/\b|\b\\\b-\b/\b|\b\\\b-\b/\b|\b\\\b-\b/\b|\b\\\b-\b/\b|\b\\\b-\b/\b|\b\\\b-\b/\b|\b\\\b-\b/\b|\b\\\b-\b/\b|\b\\\b-\b/\b|\b\\\b-\b/\b|\b\\\b-\b/\b|\b\\\b-\b/\b|\b\\\b-\b/\b|\b\\\b-\b/\b|\b\\\b-\b/\b|\b\\\b-\b/\b|\b\\\b-\b/\b|\b\\\b-\b/\b|\b\\\b-\b/\b|\b\\\b-\b/\b|\b\\\b-\b/\b|\b\\\b-\b/\b|\b\\\b-\b/\b|\b\\\b-\b/\b|\b\\\b-\b/\b|\b\\\b-\b/\b|\b\\\b-\b/\b|\b\\\b-\b/\b|\b\\\b-\b/\b|\b\\\b-\b/\b|\b\\\b-\b/\b|\b\\\b-\b/\b|\b\\\b-\b/\b|\b\\\b-\b/\b|\b\\\b-\b/\b|\b\\\b-\b/\b|\b\\\b-\b/\b|\b\\\b-\b/\b|\b\\\b-\b/\b|\b\\\b-\b/\b|\b\\\b-\b/\b|\b\\\b-\b/\b|\b\\\b-\b/\b|\b\\\b-\b/\b|\b\\\b-\b/\b|\b\\\b-\b/\b|\b\\\b-\b/\b|\b\\\b-\b/\b|\b\\\b-\b/\b|\b\\\b-\b/\b|\b\\\b-\b/\b|\b\\\b-\b/\b|\b\\\b-\b/\b|\b\\\b-\b/\b|\b\\\b-\b/\b|\b\\\b-\b/\b|\b\\\b-\b/\b|\b\\\b-\b/\b|\b\\\b-\b/\b|\b\\\b-\b/\b|\b\\\b-\b/\b|\b\\\b-\b/\b|\b\\\b-\b/\b|\b\\\b-\b/\b|\b\\\b-\b/\b|\b\\\b-\b/\b|\b\\\b-\b/\b|\b\\\b-\b/\b|\b\\\b-\b/\b|\b\\\b-\b/\b|\b\\\b-\b/\b|\b\\\b-\b/\b|\b\\\b-\b/\b|\b\\\b-\b/\b|\b\\\b-\b/\b|\b\\\b-\b/\b|\b\\\b-\b/\b|\b\\\b-\b/\b|\b\\\b-\b/\b|\b\\\b-\b/\b|\b\\\b-\b/\b|\b\\\b-\b/\b|\b\\\b-\b/\b|\b\\\b-\b/\b|\b\\\b-\b/\b|\b\\\b-\b/\b|\b\\\b-\b/\b|\b\\\b-\b/\b|\b\\\b-\b/\b|\b\\\b-\b/\b|\b\\\b-\b/\b|\b\\\b-\b/\b|\b\\\b-\b/\b|\b\\\b-\b-\b/\b|\b\\\b-\b/\b|\b\\\b-\b/\b|\b\\\b-\b/\b|\b\\\b-\b/\b|\b\\\b-\b-\b/\b|\b\\\b-\b/\b|\b\\\b-\b/\b|\b\\\b-\b/\b|\b\\\b-\b/\b|\b\\\b-\b/\b|\b\\\b-\b/\b|\b\\\b-\b/\b|\b\\\b-\b/\b|\b\\\b-\b/\b|\b\\\b-\b/\b|\b\\\b-\b/\b|\b\\\b-\b/\b|\b\\\b-\b/\b|\b\\\b-\b/\b|\b\\\b-\b/\b|\b\\\b-\b/\b|\b\\\b-\b/\b|\b\\\b-\b/\b|\b\\\b-\b/\b|\b\\\b-\b/\b|\b\\\b-\b/\b|\b\\\b-\b/\b|\b\\\b-\b/\b|\b\\\b-\b/\b|\b\\\b-\b/\b|\b\\\b-\b/\b|\b\\\b-\b/\b|\b\\\b-\b/\b|\b\\\b-\b/\b|\b\\\b-\b/\b|\b\\\b-\b/\b|\b\\\b-\b/\b|\b\\\b-\b/\b|\b\\\b-\b/\b|\b\\\b-\b/\b|\b\\\b-\b/\b|\b\\\b-\b/\b|\b\\\b-\b/\b|\b\\\b-\b/\b|\b\\\b-\b/\b|\b\\\b-\b/\b|\b\\\b-\b/\b|\b\\\b-\b/\b|\b\\\b-\b/\b|\b\\\b-\b/\b|\b\\\b-\b/\b|\b\\\b-\b/\b|\b\\\b-\b/\b|\b\\\b-\b/\b|\b\\\b-\b/\b|\b\\\b-\b/\b|\b\\\b-\b/\b|\b\\\b-\b/\b|\b\\\b-\b/\b|\b\\\b-\b/\b|\b\\\b-\b/\b|\b\\\b-\b/\b|\b\\\b-\b/\b|\b\\\b-\b/\b|\b\\\b-\b/\b|\b\\\b-\b/\b|\b\\\b-\b/\b|\b\\\b-\b/\b|\b\\\b-\b/\b|\b\\\b-\b/\b|\b\\\b-\b/\b|\b\\\b-\b/\b|\b\\\b-\b/\b|\b\\\b-\b/\b|\b\\\b-\b/\b|\b\\\b-\b/\b|\b\\\b-\b/\b|\b\\\b-\b/\b|\b\\\b-\b/\b|\b\\\b-\b/\b|\b\\\b-\b/\b|\b\\\b-\b/\b|\b\\\b-\b/\b|\b\\\b-\b/\b|\b\\\b-\b/\b|\b\\\b-\b/\b|\b\\\b-\b/\b|\b\\\b-\b/\b|\b\\\b-\b/\b|\b\\\b-\b/\b|\b\\\b-\b/\b|\b\\\b-\b/\b|\b\\\b-\b/\b|\b\\\b-\b/\b|\b\\\b-\b/\b|\b\\\b-\b/\b|\b\\\b-\b/\b|\b\\\b-\b/\b|\b\\\b-\b/\b|\b\\\b-\b/\b|\b\\\b-\b/\b|\b\\\b-\b/\b|\b\\\b-\b/\b|\b\\\b-\b/\b|\b\\\b-\b/\b|\b\\\b-\b/\b|\b\\\b-\b/\b|\b\\\b-\b/\b|\b\\\b-\b/\b|\b\\\b-\b/\b|\b\\\b-\b/\b|\b\\\b-\b/\b|\b\\\b-\b/\b|\b\\\b-\b/\b|\b\\\b-\b/\b|\b\\\b-\b/\b|\b\\\b-\b/\b|\b\\\b-\b/\b|\b\\\b-\b/\b|\b\\\b-\b/\b|\b\\\b-\b/\b|\b\\\b-\b/\b|\b\\\b-\b/\b|\b\\\b-\b/\b|\b\\\b-\b/\b|\b\\\b-\b/\b|\b\\\b-\b/\b|\b\\\b-\b/\b|\b\\\b-\b/\b|\b\\\b-\b/\b|\b\\\b-\b/\b|\b\\\b-\b/\b|\b\\\b-\b/\b|\b\\\b-\b/\b|\b\\\b-\b/\b|\b\\\b-\b/\b|\b\\\b-\b/\b|\b\\\b-\b/\b|\b\\\b-\b/\b|\b\\\b-\b/\b|\b\\\b-\b/\b|\b\\\b-\b/\b|\b\\\b-\b/\b|\b\\\b-\b/\b|\b\\\b-\b/\b|\b\\\b-\b/\b|\b\\\b-\b/\b|\b\\\b-\b/\b|\b\\\b-\b/\b|\b\\\b-\b/\b|\b\\\b-\b/\b|\b\\\b-\b/\b|\b\\\b-\b/\b|\b\\\b-\b/\b|\b\\\b-\b/\b|\b\\\b-\b/\b|\b\\\b-\b/\b|\b\\\b-\b/\b|\b\\\b-\b/\b|\b\\\b-\b/\b|\b\\\b-\b/\b|\b\\\b-\b/\b|\b\\\b-\b/\b|\b\\\b-\b/\b|\b\\\b-\b/\b|\b\\\b-\b/\b|\b\\\b-\b/\b|\b\\\b-\b/\b|\b\\\b-\b/\b|\b\\\b-\b/\b|\b\\\b-\b/\b|\b\\\b-\b/\b|\b\\\b-\b/\b|\b\\\b-\b/\b|\b\\\b-\b/\b|\b\\\b-\b/\b|\b\\\b-\b/\b|\b\\\b-\b/\b|\b\\\b-\b/\b|\b\\\b-\b/\b|\b\\\b-\b/\b|\b\\\b-\b/\b|\b\\\b-\b/\b|\b\\\b-\b/\b|\b\\\b-\b/\b|\b\\\b-\b/\b|\b\\\b-\b/\b|\b\\\b-\b/\b|\b\\\b-\b/\b|\b\\\b-\b/\b|\b\\\b-\b/\b|\b\\\b-\b/\b|\b\\\b-\b/\b|\b\\\b-\b/\b|\b\\\b-\b/\b|\b\\\b-\b/\b|\b\\\b-\b/\b|\b\\\b-\b/\b|\b\\\b-\b/\b|\b\\\b-\b/\b|\b\\\b-\b/\b|\b\\\b-\b/\b|\b\\\b-\b/\b|\b\\\b-\b/\b|\b\\\b-\b/\b|\b\\\b-\b/\b|\b\\\b-\b/\b|\b\\\b-\b/\b|\b\\\b-\b/\b|\b\\\b-\b/\b|\b\\\b-\b/\b|\b\\\b-\b/\b|\b\\\b-\b/\b|\b\\\b-\b/\b|\b\\\b-\b/\b|\b\\\b-\b/\b|\b\\\b-\b/\b|\b\\\b-\b/\b|\b\\\b-\b/\b|\b\\\b-\b/\b|\b\\\b-\b/\b|\b\\\b-\b/\b|\b\\\b-\b/\b|\b\\\b-\b/\b|\b\\\b-\b/\b|\b\\\b-\b/\b|\b\\\b-\b/\b|\b\\\b-\b/\b|\b\\\b-\b/\b|\b\\\b-\b/\b|\b\\\b-\b/\b|\b\\\b-\b/\b|\b\\\b-\b/\b\n"
          ],
          "name": "stdout"
        },
        {
          "output_type": "stream",
          "text": [
            "Building jupyterlab assets (build:prod:minimize)\n"
          ],
          "name": "stderr"
        }
      ]
    },
    {
      "cell_type": "markdown",
      "metadata": {
        "colab_type": "text",
        "id": "XqYB7nAg2EEQ"
      },
      "source": [
        "## Web App"
      ]
    },
    {
      "cell_type": "markdown",
      "metadata": {
        "id": "yikzKUAm4AB2",
        "colab_type": "text"
      },
      "source": [
        "### Import .pkl files"
      ]
    },
    {
      "cell_type": "code",
      "metadata": {
        "id": "7jvFyclA4AB3",
        "colab_type": "code",
        "colab": {}
      },
      "source": [
        "# these are used for the cluster plots"
      ],
      "execution_count": null,
      "outputs": []
    },
    {
      "cell_type": "code",
      "metadata": {
        "id": "ox2Nxuon4AB7",
        "colab_type": "code",
        "colab": {}
      },
      "source": [
        "import pickle"
      ],
      "execution_count": null,
      "outputs": []
    },
    {
      "cell_type": "code",
      "metadata": {
        "id": "U0z7kw8y4ACA",
        "colab_type": "code",
        "colab": {}
      },
      "source": [
        "categories =  ['Indoor Home & Apparel', 'Major Electronics'] \n",
        "pkl_files = ['indoor_home.pkl', 'major_electronics.pkl']\n",
        "\n",
        "# categories = ['Athletics',\n",
        "#  'Books',\n",
        "#  'Business & Industrial',\n",
        "#  \"Children's Goods\",\n",
        "#  'Digital Media',\n",
        "#  'Health & Special Needs',\n",
        "#  'Hobbies & Crafts',\n",
        "#  'Indoor Home & Apparel',\n",
        "#  'Major Electronics',\n",
        "#  'Musical Instruments',\n",
        "#  'Outdoor Home & Reno',\n",
        "#  'Vehicle Parts & Tires',\n",
        "#  'Video Games & Consoles']\n",
        "\n",
        "# pkl_files=['athletics.pkl',\n",
        "# 'books.pkl',\n",
        "# 'business_ind.pkl',\n",
        "# 'childrens_goods.pkl',\n",
        "# 'digital_media.pkl',\n",
        "# 'health_sp_needs.pkl',\n",
        "# 'hobbies_crafts.pkl',\n",
        "# 'indoor_home.pkl',\n",
        "# 'major_electronics.pkl',\n",
        "# 'musical_instruments.pkl',\n",
        "# 'outdoor_home_reno.pkl',\n",
        "# 'vehicle_parts.pkl',\n",
        "# 'video_games.pkl']\n",
        "\n",
        "pkl_dict = dict(zip(categories, pkl_files))"
      ],
      "execution_count": null,
      "outputs": []
    },
    {
      "cell_type": "code",
      "metadata": {
        "id": "P-X6HGj04ACE",
        "colab_type": "code",
        "colab": {}
      },
      "source": [
        "# create a dict containing all of the archetype-dict mappings\n",
        "idx_dict={\"Outdoor Home & Reno\":{\t\"Casual Seller\":0\n",
        "\t,\"Sell-Savvy Buyer\":1\n",
        "\t,\"Avalanche Seller\":2\n",
        "\t,\"Strictly Sell-Side\":3\n",
        "\t,\"Thrifty Infrequent Seller\":4\n",
        "\t,\"Feature-Buying Infrequent Seller\":5}\n",
        ",\"Hobbies & Crafts\":{\t\"Casual Seller\":0\n",
        "\t,\"Sell-Savvy Buyer\":1\n",
        "\t,\"Strictly Sell-Side\":2\n",
        "\t,\"Dedicated, Infrequent Seller\":3\n",
        "\t,\"Avalanche Seller\":4}\n",
        ",\"Health & Special Needs\":{\t\"Casual Seller\":0\n",
        "\t,\"Sell-Savvy Buyer\":1\n",
        "\t,\"Strictly Sell-Side\":2\n",
        "\t,\"Avalanche Seller\":3\n",
        "\t,\"Dedicated, Infrequent Seller\":4}\n",
        ",\"Children's Goods\":{\t\"Casual Seller\":0\n",
        "\t,\"Sell-Savvy Buyer\":1\n",
        "\t,\"Avalanche Seller\":2\n",
        "\t,\"Strictly Sell-Side\":3}\n",
        ",\"Athletics\":{\t\"Casual Seller\":0\n",
        "\t,\"Sell-Savvy Buyer\":1\n",
        "\t,\"Avalanche Seller\":2\n",
        "\t,\"Strictly Sell-Side\":3\n",
        "\t,\"Dedicated, Infrequent Seller\":4}\n",
        ",\"Musical Instruments\":{\t\"Avalanche Seller\":0\n",
        "\t,\"Thrifty Infrequent Seller\":1\n",
        "\t,\"Strictly Sell-Side\":2\n",
        "\t,\"Casual Seller\":3\n",
        "\t,\"Feature-Buying Infrequent Seller\":4}\n",
        ",\"Video Games & Consoles\":{\t\"Casual Seller\":0\n",
        "\t,\"Dedicated, Infrequent Seller\":1\n",
        "\t,\"Avalanche Seller\":2\n",
        "\t,\"Strictly Sell-Side\":3}\n",
        ",\"Indoor Home & Apparel\":{\t\"Casual Seller\":0\n",
        "\t,\"Sell-Savvy Buyer\":1\n",
        "\t,\"Strictly Sell-Side\":2\n",
        "\t,\"Avalanche Seller\":3\n",
        "\t,\"Dedicated, Infrequent Seller\":4}\n",
        ",\"Books\":{\t\"Casual Seller\":0\n",
        "\t,\"Dedicated, Infrequent Seller\":1}\n",
        ",\"Vehicle Parts & Tires\":{\t\"Sell-Savvy Buyer\":0\n",
        "\t,\"Strictly Sell-Side\":1\n",
        "\t,\"Casual Seller\":2}\n",
        ",\"Business & Industrial\":{\t\"Casual Seller\":0\n",
        "\t,\"Strictly Sell-Side\":1}\n",
        ",\"Digital Media\":{\t\"Casual Seller\":0\n",
        "\t,\"Sell-Savvy Buyer\":1\n",
        "\t,\"Avalanche Seller\":2\n",
        "\t,\"Strictly Sell-Side\":3}\n",
        ",\"Major Electronics\":{\t\"Dedicated, Infrequent Seller\":0\n",
        "\t,\"Casual Seller\":1\n",
        "\t,\"Avalanche Seller\":2\n",
        "\t,\"Strictly Sell-Side\":3\n",
        "\t,\"Sell-Savvy Buyer\":4}}"
      ],
      "execution_count": null,
      "outputs": []
    },
    {
      "cell_type": "code",
      "metadata": {
        "id": "WNImSAIx4ACI",
        "colab_type": "code",
        "colab": {}
      },
      "source": [
        "colours = ['#373373', '#37aa64','#f8aa17', '#9b44ad', '#2681db', '#f1454f', '#6C7083']\n",
        "clr_dict = dict(zip(seller_clusters, colours)) \n",
        "# iterate through each .pkl file and load it into the dict\n",
        "plotting_dataframes = {} # dict containing the dataframe for each category plot\n",
        "for cat, filename in pkl_dict.items():\n",
        "    infile = open(\"pkl files/\"+ filename,'rb')\n",
        "    df = pickle.load(infile)\n",
        "    # for each df, replace the value found in [3] with the corresponding cluster name \n",
        "    for key, val in idx_dict[cat].items():\n",
        "        df.loc[df.Cluster==val,'Cluster'] = key\n",
        "    # develop a colour palette\n",
        "    for key, val in clr_dict.items():\n",
        "        df.loc[df.Cluster==key,'cluster_colour'] = val\n",
        "    # seller vs not\n",
        "    df.loc[df.delr_flag==1,'delr_flag'] = \"Professional Seller\"\n",
        "    df.loc[df.delr_flag==0,'delr_flag'] = \"Casual Seller\"   \n",
        "    # now do the colours for this one...\n",
        "    df.loc[df.delr_flag==\"Professional Seller\",'delr_flag_colour'] = \"#2681db\" # Autos Blue \n",
        "    df.loc[df.delr_flag==\"Casual Seller\",'delr_flag_colour'] = \"#373373\"       # Kijiji Purple\n",
        "    plotting_dataframes[cat] = df"
      ],
      "execution_count": null,
      "outputs": []
    },
    {
      "cell_type": "markdown",
      "metadata": {
        "id": "USED6ds-4ACN",
        "colab_type": "text"
      },
      "source": [
        "### Import .csv files"
      ]
    },
    {
      "cell_type": "code",
      "metadata": {
        "id": "WmAa-9f54ACO",
        "colab_type": "code",
        "colab": {},
        "outputId": "d5ff8d2a-c57e-4c8c-8039-335442034a30"
      },
      "source": [
        "# these are used for the heatmaps"
      ],
      "execution_count": null,
      "outputs": [
        {
          "output_type": "execute_result",
          "data": {
            "text/plain": [
              "{'Indoor Home & Apparel': 'Data for Webapp - Athletics.csv',\n",
              " 'Major Electronics': 'Data for Webapp - Books.csv'}"
            ]
          },
          "metadata": {
            "tags": []
          },
          "execution_count": 46
        }
      ]
    },
    {
      "cell_type": "code",
      "metadata": {
        "id": "OCkm5k-O4ACT",
        "colab_type": "code",
        "colab": {}
      },
      "source": [
        "seller_clusters=['Casual Seller'\n",
        "               , 'Sell-Savvy Buyer'\n",
        "               , 'Avalanche Seller'\n",
        "               ,'Strictly Sell-Side'\n",
        "               , 'Dedicated, Infrequent Seller'\n",
        "               , 'Feature-Buying Infrequent Seller'\n",
        "               , 'Thrifty Infrequent Seller']\n",
        "filenames = [\n",
        "    'Data for Webapp - Indoor_Home_Apparel.csv',\n",
        "    'Data for Webapp - Major_Electronics.csv'\n",
        "]\n",
        "\n",
        "# filenames = ['Data for Webapp - Athletics.csv',\n",
        "# 'Data for Webapp - Books.csv',\n",
        "# 'Data for Webapp - Business_Industrial.csv',\n",
        "# 'Data for Webapp - Childrens_Goods.csv',\n",
        "# 'Data for Webapp - Digital_Media.csv',\n",
        "# 'Data for Webapp - Health_Sp_Needs.csv',\n",
        "# 'Data for Webapp - Hobbies_Crafts.csv',\n",
        "# 'Data for Webapp - Indoor_Home_Apparel.csv',\n",
        "# 'Data for Webapp - Major_Electronics.csv',\n",
        "# 'Data for Webapp - Musical_Instruments.csv',\n",
        "# 'Data for Webapp - Outdoor_Home_Reno.csv',\n",
        "# 'Data for Webapp - Vehicle_Parts.csv',\n",
        "# 'Data for Webapp - Video_Games_Consoles.csv']\n",
        "\n",
        "files_dict = dict(zip(categories, filenames))\n",
        "\n",
        "PATH=\"csvs/\" # change this for when I'm actually working in python\n",
        "\n",
        "df_dict={}\n",
        "for category, filename in files_dict.items():\n",
        "    df = pd.read_csv(PATH+filename, index_col=0, header=None, thousands=',')\n",
        "\n",
        "    # get the names of the cluster groups\n",
        "    names=list(idx_dict[category].keys())\n",
        "    # reorder according to the order of seller clusters \n",
        "    col_order = []\n",
        "    col_names = []\n",
        "    for i in range(len(seller_clusters)):\n",
        "        for clus_name in names:\n",
        "            if clus_name==seller_clusters[i]:\n",
        "                col_order.append(idx_dict[category][clus_name]+1)\n",
        "                col_names.append(clus_name)\n",
        "    df = df.apply(pd.to_numeric)\n",
        "    df = df[col_order]\n",
        "    df.columns = col_names\n",
        "    # standardize this across rows  \n",
        "    df=df.div(df.sum(axis=1),axis=0).fillna(0)\n",
        "    df_dict[category] = df"
      ],
      "execution_count": null,
      "outputs": []
    },
    {
      "cell_type": "markdown",
      "metadata": {
        "id": "4HQR7GR24ACY",
        "colab_type": "text"
      },
      "source": [
        "### Generate webapp "
      ]
    },
    {
      "cell_type": "code",
      "metadata": {
        "id": "pb7gSPDn4ACZ",
        "colab_type": "code",
        "colab": {}
      },
      "source": [
        "mainmap_rows=['Ads Posted / Month', \n",
        " 'Replies / Month', \n",
        " 'Buy / Sell Ratio',\n",
        "       'Email Domain', \n",
        " 'Inventory Value ', \n",
        " 'Replies / Post',\n",
        " 'Connections / Post', \n",
        " 'Duration / Post', \n",
        " 'Average Price / Post',\n",
        " 'Feature Spend / Post', \n",
        " 'App posts',\n",
        "       'Web posts']"
      ],
      "execution_count": null,
      "outputs": []
    },
    {
      "cell_type": "code",
      "metadata": {
        "id": "OgX_4FuV4ACe",
        "colab_type": "code",
        "colab": {}
      },
      "source": [
        "pll = plotting_dataframes['Indoor Home & Apparel']\n",
        "selected_df = df_dict['Indoor Home & Apparel']\n",
        "category_sp = selected_df[~selected_df.index.isin(mainmap_rows +['Distribution', 'Mobile web posts'])]"
      ],
      "execution_count": null,
      "outputs": []
    },
    {
      "cell_type": "code",
      "metadata": {
        "id": "iFNKzKgW4ACi",
        "colab_type": "code",
        "colab": {}
      },
      "source": [
        "html_tags = ['casual_seller', 'sell_savvy_buyer', 'avalanche', 'strictly_sell', 'dedicated', 'ftr_buying', 'thrifty']\n",
        "html_dict = dict(zip(seller_clusters, html_tags)) "
      ],
      "execution_count": null,
      "outputs": []
    },
    {
      "cell_type": "code",
      "metadata": {
        "id": "IE_DYqib4ACl",
        "colab_type": "code",
        "colab": {},
        "outputId": "6523c355-598b-48b2-915d-f8806c3cf9b5"
      },
      "source": [
        ""
      ],
      "execution_count": null,
      "outputs": [
        {
          "output_type": "execute_result",
          "data": {
            "text/plain": [
              "0.888888888888889"
            ]
          },
          "metadata": {
            "tags": []
          },
          "execution_count": 423
        }
      ]
    },
    {
      "cell_type": "code",
      "metadata": {
        "id": "pp-frkW94ACp",
        "colab_type": "code",
        "colab": {}
      },
      "source": [
        "copy=[  \"Low post and reply activity\"\n",
        "      , \"Active on both buy and sell sides, buys more frequently than sells\"\n",
        "      , \"Sells a high volume of low-value goods\"\n",
        "      , \"Posts infrequently, but highly successful and likely to buy features\"\n",
        "      , \"Moderately successful seller with feature spend\"\n",
        "      , \"Highly successful user with infrquent post activity, no spend\"\n",
        "] \n",
        "seller_descs = dict(zip(seller_clusters, copy)) "
      ],
      "execution_count": null,
      "outputs": []
    },
    {
      "cell_type": "code",
      "metadata": {
        "colab_type": "code",
        "id": "u0GQhQGXqC2P",
        "colab": {}
      },
      "source": [
        "trace1 = go.Scatter3d(\n",
        "    x=pll['umapone'],\n",
        "    y=pll['umaptwo'],\n",
        "    z=pll['umapthree'],\n",
        "    mode='markers',\n",
        "    marker=dict(\n",
        "        size=2,\n",
        "        color=pll['cluster_colour'],                # set color to an array/list of desired values\n",
        "        colorscale='Portland',   # choose a colorscale\n",
        "        symbol='diamond', \n",
        "        opacity=0.7\n",
        "    )\n",
        ")\n",
        "\n",
        "trace2 = go.Scatter3d(\n",
        "    x=pll['umapone'],\n",
        "    y=pll['umaptwo'],\n",
        "    z=pll['umapthree'],\n",
        "    mode='markers',\n",
        "    marker=dict(\n",
        "        size=2,\n",
        "        color=pll['delr_flag_colour'],                # set color to an array/list of desired values\n",
        "        colorscale='Portland',   # choose a colorscale\n",
        "        symbol='diamond', \n",
        "        opacity=0.7\n",
        "    )\n",
        ")\n",
        "\n",
        "trace3 = go.Heatmap(z=selected_df.loc[mainmap_rows].values, \n",
        "                                              y = selected_df.loc[mainmap_rows].index, \n",
        "                                              x = selected_df.columns, \n",
        "                                              colorscale=[[0.0, 'rgb(255, 255, 255)'], [1.0, 'rgb(155, 68, 173)']],\n",
        "                                              colorbar=dict(tickvals=[0,0.5,1],ticktext=[\"Low\",\"Med\",\"High\"])\n",
        "                                             )\n",
        "\n",
        "\n",
        "trace4 = go.Heatmap(z=category_sp.values, \n",
        "                                              y = category_sp.index, \n",
        "                                              x = category_sp.columns, \n",
        "                                              colorscale=[[0.0, 'rgb(255, 255, 255)'], [1.0, 'rgb(55, 51, 115)']],\n",
        "                                              colorbar=dict(tickvals=[0,0.5,1],ticktext=[\"Low\",\"Med\",\"High\"])\n",
        "                                             )             \n",
        "\n",
        "\n",
        "g1 = go.FigureWidget(data=[trace1],\n",
        "                    layout=go.Layout(\n",
        "                        title=dict(\n",
        "                            text='After Hierarchical Clustering',\n",
        "                            x = 0.5\n",
        "                        ),\n",
        "                        scene = dict(xaxis=dict(title=\"\", showgrid=False, ticks='', showticklabels=False, showline=False, backgroundcolor=\"white\")\n",
        "                                    ,yaxis=dict(title=\"\", showgrid=False, ticks='', showticklabels=False, showline=False, backgroundcolor=\"white\")\n",
        "                                    ,zaxis=dict(title=\"\", showgrid=False, ticks='', showticklabels=False, showline=False, backgroundcolor=\"white\")\n",
        "                        )\n",
        "                        , font = dict(family=\"Larsseit\", size=20, color='#6C7083')\n",
        "                        , height = 450\n",
        "                        , width = 550\n",
        "                    ))\n",
        "\n",
        "g2 = go.FigureWidget(data=[trace2],\n",
        "                    layout=go.Layout(\n",
        "                        title=dict(\n",
        "                            text='Seller Self-Identification',\n",
        "                            x = 0.5\n",
        "                        ),\n",
        "                        scene = dict(xaxis=dict(title=\"\", showgrid=False, ticks='', showticklabels=False, showline=False, backgroundcolor=\"white\")\n",
        "                                    ,yaxis=dict(title=\"\", showgrid=False, ticks='', showticklabels=False, showline=False, backgroundcolor=\"white\")\n",
        "                                    ,zaxis=dict(title=\"\", showgrid=False, ticks='', showticklabels=False, showline=False, backgroundcolor=\"white\")\n",
        "                        )\n",
        "                        , font = dict(family=\"Larsseit\", size=20, color='#6C7083')\n",
        "                        , height = 450\n",
        "                        , width = 550\n",
        "\n",
        "                    ))\n",
        "\n",
        "\n",
        "g3 = go.FigureWidget(data=[trace3],\n",
        "                    layout = go.Layout(font=dict(family=\"Larsseit\", size=14, color = '#9B44AD'),\n",
        "                                                xaxis={'side':'top'} , height = 450\n",
        "                        , width = 550))                        \n",
        "\n",
        "\n",
        "g4 = go.FigureWidget(data=[trace4],\n",
        "                    layout = go.Layout(  \n",
        "                                               font=dict(family=\"Larsseit\", size=14, color = '#373373'),\n",
        "                                                xaxis={'side':'top'} , height = 450\n",
        "                        , width = 550))\n",
        "                            \n",
        "\n",
        "category_select = widgets.Dropdown(\n",
        "    options=categories,\n",
        "    value='Indoor Home & Apparel',\n",
        "    description='Category:',\n",
        ")\n",
        "\n",
        "title = widgets.HTML(\n",
        "    value=\"<h1><b>Indoor Home & Apparel</b></h1>\"\n",
        ")\n",
        "\n",
        "# final widget for text\n",
        "\n",
        "html_str = \"<br><br><br>\"\n",
        "for seller_type in selected_df.columns:\n",
        "    # make some html\n",
        "    html_str = html_str +'<b><'+ html_dict[seller_type] + '>' + str(np.round(selected_df.loc['Distribution',seller_type],2)*100) + '%' + ' ' + seller_type + '</' +html_dict[seller_type]+ '></b>' + '<br>' + '<p>' + seller_descs[seller_type] + '</p>'+'<br>'    \n",
        "\n",
        "descs = widgets.HTML(\n",
        "    value=html_str\n",
        ")\n",
        "\n",
        "#reactive part will change the value of df according to toggle\n",
        "def response(change):\n",
        "    cat_val = category_select.value\n",
        "    temp_df = plotting_dataframes[cat_val]\n",
        "    selected_df = df_dict[cat_val]\n",
        "    category_sp = selected_df[~selected_df.index.isin(mainmap_rows +['Distribution', 'Mobile web posts'])]\n",
        "    x = temp_df['umapone']\n",
        "    y = temp_df['umaptwo']\n",
        "    z = temp_df['umapthree']\n",
        "    \n",
        "    title.value = \"<h1><b>\"+ cat_val +\"</b></h1>\"\n",
        "\n",
        "    with g1.batch_update():\n",
        "                g1.data[0].x = x\n",
        "                g1.data[0].y = y\n",
        "                g1.data[0].z = z\n",
        "                g1.data[0].marker=dict(\n",
        "                size=2,\n",
        "                color=temp_df['cluster_colour'],                # set color to an array/list of desired values\n",
        "                symbol='diamond', \n",
        "                opacity=0.7\n",
        "            )\n",
        "    \n",
        "    with g2.batch_update():\n",
        "                g2.data[0].x = x\n",
        "                g2.data[0].y = y\n",
        "                g2.data[0].z = z\n",
        "                g2.data[0].marker=dict(\n",
        "                size=2,\n",
        "                color=temp_df['delr_flag_colour'],                # set color to an array/list of desired values\n",
        "                symbol='diamond', \n",
        "                opacity=0.7\n",
        "            )\n",
        "    \n",
        "    with g3.batch_update():\n",
        "                g3.data[0].z = selected_df.loc[mainmap_rows].values\n",
        "                g3.data[0].y = selected_df.loc[mainmap_rows].index\n",
        "                g3.data[0].x = selected_df.columns\n",
        "#                 g3.layout.height = 500\n",
        "#                 g3.layout.width = 400\n",
        "            \n",
        "    with g4.batch_update():\n",
        "                g4.data[0].z = category_sp.values\n",
        "                g4.data[0].y = category_sp.index\n",
        "                g4.data[0].x = category_sp.columns\n",
        "#                 g4.layout.height = 500\n",
        "#                 g4.layout.width = 400\n",
        "\n",
        "\n",
        "category_select.observe(response, names=\"value\")"
      ],
      "execution_count": null,
      "outputs": []
    },
    {
      "cell_type": "code",
      "metadata": {
        "id": "7FCVZ-Ou4ACy",
        "colab_type": "code",
        "colab": {},
        "outputId": "999a152b-09ec-40d2-defd-8ee89d99d28c"
      },
      "source": [
        "html_str"
      ],
      "execution_count": null,
      "outputs": [
        {
          "output_type": "execute_result",
          "data": {
            "text/plain": [
              "'<b><casual_seller>89.0% </b> Casual Seller</casual_seller><br><p>Low post and reply activity</p><br><b><sell_savvy_buyer>6.0% </b> Sell-Savvy Buyer</sell_savvy_buyer><br><p>Active on both buy and sell sides, buys more frequently than sells</p><br><b><avalanche>2.0% </b> Avalanche Seller</avalanche><br><p>Sells a high volume of low-value goods</p><br><b><strictly_sell>2.0% </b> Strictly Sell-Side</strictly_sell><br><p>Posts infrequently, but highly successful and likely to buy features</p><br><b><dedicated>1.0% </b> Dedicated, Infrequent Seller</dedicated><br><p>Moderately successful seller with feature spend</p><br>'"
            ]
          },
          "metadata": {
            "tags": []
          },
          "execution_count": 440
        }
      ]
    },
    {
      "cell_type": "code",
      "metadata": {
        "id": "F0EjfPzs4AC2",
        "colab_type": "code",
        "colab": {},
        "outputId": "007b4c0c-4cac-46bb-c23a-3d33c0f97b23"
      },
      "source": [
        "from IPython.core.display import display, HTML\n",
        "display(HTML(\"<style>.container { width:100% !important; }</style>\"))"
      ],
      "execution_count": null,
      "outputs": [
        {
          "output_type": "display_data",
          "data": {
            "text/html": [
              "<style>.container { width:100% !important; }</style>"
            ],
            "text/plain": [
              "<IPython.core.display.HTML object>"
            ]
          },
          "metadata": {
            "tags": []
          }
        }
      ]
    },
    {
      "cell_type": "code",
      "metadata": {
        "id": "aCMZtBa04AC8",
        "colab_type": "code",
        "colab": {},
        "outputId": "510408a6-cd62-4dca-84e0-a9c2bf587fc1"
      },
      "source": [
        "%%html\n",
        "<style>\n",
        "body {font-family: Larsseit;}\n",
        "h1   {font-family: Larsseit; font-size: 70px; color:#6C7083;}\n",
        "p    {font-family: Larsseit;}\n",
        "casual_seller {font-family:Larsseit;color:#373373;font-size: 40px;}\n",
        "sell_savvy_buyer {font-family:Larsseit;color:#37aa64;font-size: 40px;}\n",
        "avalanche {font-family:Larsseit;color:#f8aa17;font-size: 40px;}\n",
        "strictly_sell {font-family:Larsseit;color:#9b44ad;font-size: 40px;}\n",
        "dedicated {font-family:Larsseit;color:#2681db;font-size: 40px;}\n",
        "ftr_buying {font-family:Larsseit;color:#f1454f;font-size: 40px;}\n",
        "thrifty {font-family:Larsseit;color:#6C7083;font-size: 40px;}\n",
        "</style>"
      ],
      "execution_count": null,
      "outputs": [
        {
          "output_type": "display_data",
          "data": {
            "text/html": [
              "<style>\n",
              "body {font-family: Larsseit;}\n",
              "h1   {font-family: Larsseit; font-size: 70px; color:#6C7083;}\n",
              "p    {font-family: Larsseit;}\n",
              "casual_seller {font-family:Larsseit;color:#373373;font-size: 40px;}\n",
              "sell_savvy_buyer {font-family:Larsseit;color:#37aa64;font-size: 40px;}\n",
              "avalanche {font-family:Larsseit;color:#f8aa17;font-size: 40px;}\n",
              "strictly_sell {font-family:Larsseit;color:#9b44ad;font-size: 40px;}\n",
              "dedicated {font-family:Larsseit;color:#2681db;font-size: 40px;}\n",
              "ftr_buying {font-family:Larsseit;color:#f1454f;font-size: 40px;}\n",
              "thrifty {font-family:Larsseit;color:#6C7083;font-size: 40px;}\n",
              "</style>\n"
            ],
            "text/plain": [
              "<IPython.core.display.HTML object>"
            ]
          },
          "metadata": {
            "tags": []
          }
        }
      ]
    },
    {
      "cell_type": "code",
      "metadata": {
        "colab_type": "code",
        "id": "iAbz4o1x_jvW",
        "scrolled": false,
        "colab": {
          "referenced_widgets": [
            "866b8359c1264363a8470d09a821ebd9",
            "4828464c434b469fb3c818e2846e1a42",
            "cd3f5f83248b4861a143ee178fe2dccf"
          ]
        },
        "outputId": "3d850e4c-45af-481d-9e07-f0f32a6221aa"
      },
      "source": [
        "display(title)\n",
        "display(category_select)\n",
        "graphs= widgets.HBox([g2, g1])\n",
        "heatmaps = widgets.HBox([g3,g4])\n",
        "all_graphs = widgets.VBox([graphs, heatmaps])\n",
        "webapp = widgets.HBox([all_graphs, descs])\n",
        "# display(graphs)\n",
        "# display(heatmaps)\n",
        "display(webapp)"
      ],
      "execution_count": null,
      "outputs": [
        {
          "output_type": "display_data",
          "data": {
            "application/vnd.jupyter.widget-view+json": {
              "model_id": "866b8359c1264363a8470d09a821ebd9",
              "version_major": 2,
              "version_minor": 0
            },
            "text/plain": [
              "HTML(value='<h1><b>Indoor Home & Apparel</b></h1>')"
            ]
          },
          "metadata": {
            "tags": []
          }
        },
        {
          "output_type": "display_data",
          "data": {
            "application/vnd.jupyter.widget-view+json": {
              "model_id": "4828464c434b469fb3c818e2846e1a42",
              "version_major": 2,
              "version_minor": 0
            },
            "text/plain": [
              "Dropdown(description='Category:', options=('Indoor Home & Apparel', 'Major Electronics'), value='Indoor Home &…"
            ]
          },
          "metadata": {
            "tags": []
          }
        },
        {
          "output_type": "display_data",
          "data": {
            "application/vnd.jupyter.widget-view+json": {
              "model_id": "cd3f5f83248b4861a143ee178fe2dccf",
              "version_major": 2,
              "version_minor": 0
            },
            "text/plain": [
              "HBox(children=(VBox(children=(HBox(children=(FigureWidget({\n",
              "    'data': [{'marker': {'color': array(['#373373'…"
            ]
          },
          "metadata": {
            "tags": []
          }
        }
      ]
    },
    {
      "cell_type": "code",
      "metadata": {
        "id": "GvfbcatL4ADF",
        "colab_type": "code",
        "colab": {}
      },
      "source": [
        "from ipywidgets.embed import embed_minimal_html\n",
        "\n",
        "embed_minimal_html('export.html', views=[category_select, graphs], title='Widgets export')"
      ],
      "execution_count": null,
      "outputs": []
    }
  ]
}